{
 "cells": [
  {
   "cell_type": "code",
   "execution_count": 1,
   "metadata": {},
   "outputs": [
    {
     "name": "stdout",
     "output_type": "stream",
     "text": [
      "GPU 2 selected\n"
     ]
    }
   ],
   "source": [
    "# # The following snippet is used for using a single GPU on a remote server. It is not needed for Google Colab, so you can comment it out.\n",
    "\n",
    "# import os\n",
    "# import sys\n",
    "\n",
    "# _CVD = '0'\n",
    "\n",
    "\n",
    "# def set_gpu(gpu_id):\n",
    "#     global _CVD\n",
    "#     _CVD = gpu_id\n",
    "\n",
    "#     assert isinstance(_CVD, str), \"gpu_id must be a string\"\n",
    "#     assert _CVD.isdigit(), \"gpu_id must be a digit\"\n",
    "\n",
    "#     # assert that tensorflow or keras are not imported\n",
    "#     assert 'tensorflow' not in sys.modules.keys(), \"tensorflow already imported\"\n",
    "#     assert 'keras' not in sys.modules.keys(), \"keras already imported\"\n",
    "\n",
    "#     os.environ['TF_FORCE_GPU_ALLOW_GROWTH'] = 'true'\n",
    "#     os.environ['CUDA_VISIBLE_DEVICES'] = _CVD\n",
    "\n",
    "#     print(f'GPU {gpu_id} selected')\n",
    "\n",
    "\n",
    "# set_gpu(_CVD)"
   ]
  },
  {
   "cell_type": "code",
   "execution_count": 2,
   "metadata": {},
   "outputs": [
    {
     "name": "stderr",
     "output_type": "stream",
     "text": [
      "2024-05-09 09:41:49.038340: I tensorflow/core/platform/cpu_feature_guard.cc:193] This TensorFlow binary is optimized with oneAPI Deep Neural Network Library (oneDNN) to use the following CPU instructions in performance-critical operations:  SSE4.1 SSE4.2 AVX AVX2 FMA\n",
      "To enable them in other operations, rebuild TensorFlow with the appropriate compiler flags.\n"
     ]
    },
    {
     "name": "stdout",
     "output_type": "stream",
     "text": [
      "2.11.0\n"
     ]
    }
   ],
   "source": [
    "import tensorflow as tf\n",
    "\n",
    "print(tf.__version__)"
   ]
  },
  {
   "cell_type": "code",
   "execution_count": 3,
   "metadata": {},
   "outputs": [
    {
     "name": "stderr",
     "output_type": "stream",
     "text": [
      "2024-05-09 09:41:50.228433: I tensorflow/compiler/xla/stream_executor/cuda/cuda_gpu_executor.cc:981] successful NUMA node read from SysFS had negative value (-1), but there must be at least one NUMA node, so returning NUMA node zero\n",
      "2024-05-09 09:41:50.253823: I tensorflow/compiler/xla/stream_executor/cuda/cuda_gpu_executor.cc:981] successful NUMA node read from SysFS had negative value (-1), but there must be at least one NUMA node, so returning NUMA node zero\n",
      "2024-05-09 09:41:50.254103: I tensorflow/compiler/xla/stream_executor/cuda/cuda_gpu_executor.cc:981] successful NUMA node read from SysFS had negative value (-1), but there must be at least one NUMA node, so returning NUMA node zero\n"
     ]
    },
    {
     "data": {
      "text/plain": [
       "[PhysicalDevice(name='/physical_device:CPU:0', device_type='CPU'),\n",
       " PhysicalDevice(name='/physical_device:GPU:0', device_type='GPU')]"
      ]
     },
     "execution_count": 3,
     "metadata": {},
     "output_type": "execute_result"
    }
   ],
   "source": [
    "tf.config.list_physical_devices()"
   ]
  },
  {
   "cell_type": "code",
   "execution_count": 4,
   "metadata": {},
   "outputs": [
    {
     "name": "stderr",
     "output_type": "stream",
     "text": [
      "2024-05-09 09:41:50.272093: I tensorflow/core/platform/cpu_feature_guard.cc:193] This TensorFlow binary is optimized with oneAPI Deep Neural Network Library (oneDNN) to use the following CPU instructions in performance-critical operations:  SSE4.1 SSE4.2 AVX AVX2 FMA\n",
      "To enable them in other operations, rebuild TensorFlow with the appropriate compiler flags.\n"
     ]
    },
    {
     "name": "stdout",
     "output_type": "stream",
     "text": [
      "tf.Tensor(1.0, shape=(), dtype=float32)\n",
      "tf.Tensor(2.0, shape=(), dtype=float32)\n",
      "tf.Tensor(3.0, shape=(), dtype=float32)\n"
     ]
    },
    {
     "name": "stderr",
     "output_type": "stream",
     "text": [
      "2024-05-09 09:41:50.279331: I tensorflow/compiler/xla/stream_executor/cuda/cuda_gpu_executor.cc:981] successful NUMA node read from SysFS had negative value (-1), but there must be at least one NUMA node, so returning NUMA node zero\n",
      "2024-05-09 09:41:50.279636: I tensorflow/compiler/xla/stream_executor/cuda/cuda_gpu_executor.cc:981] successful NUMA node read from SysFS had negative value (-1), but there must be at least one NUMA node, so returning NUMA node zero\n",
      "2024-05-09 09:41:50.279877: I tensorflow/compiler/xla/stream_executor/cuda/cuda_gpu_executor.cc:981] successful NUMA node read from SysFS had negative value (-1), but there must be at least one NUMA node, so returning NUMA node zero\n",
      "2024-05-09 09:41:50.572514: I tensorflow/compiler/xla/stream_executor/cuda/cuda_gpu_executor.cc:981] successful NUMA node read from SysFS had negative value (-1), but there must be at least one NUMA node, so returning NUMA node zero\n",
      "2024-05-09 09:41:50.572809: I tensorflow/compiler/xla/stream_executor/cuda/cuda_gpu_executor.cc:981] successful NUMA node read from SysFS had negative value (-1), but there must be at least one NUMA node, so returning NUMA node zero\n",
      "2024-05-09 09:41:50.573053: I tensorflow/compiler/xla/stream_executor/cuda/cuda_gpu_executor.cc:981] successful NUMA node read from SysFS had negative value (-1), but there must be at least one NUMA node, so returning NUMA node zero\n",
      "2024-05-09 09:41:50.573246: W tensorflow/core/common_runtime/gpu/gpu_bfc_allocator.cc:42] Overriding orig_value setting because the TF_FORCE_GPU_ALLOW_GROWTH environment variable is set. Original config value was 0.\n",
      "2024-05-09 09:41:50.573271: I tensorflow/core/common_runtime/gpu/gpu_device.cc:1613] Created device /job:localhost/replica:0/task:0/device:GPU:0 with 46731 MB memory:  -> device: 0, name: NVIDIA RTX A6000, pci bus id: 0000:61:00.0, compute capability: 8.6\n"
     ]
    }
   ],
   "source": [
    "x = tf.constant(1.)\n",
    "y = tf.constant(2.)\n",
    "\n",
    "print(x)\n",
    "print(y)\n",
    "print(x+y)"
   ]
  },
  {
   "cell_type": "code",
   "execution_count": 5,
   "metadata": {},
   "outputs": [
    {
     "data": {
      "text/plain": [
       "<tf.Tensor: shape=(), dtype=float32, numpy=1.0>"
      ]
     },
     "execution_count": 5,
     "metadata": {},
     "output_type": "execute_result"
    }
   ],
   "source": [
    "tf.math.sqrt(x)"
   ]
  },
  {
   "cell_type": "code",
   "execution_count": 6,
   "metadata": {},
   "outputs": [
    {
     "name": "stdout",
     "output_type": "stream",
     "text": [
      "tf.Tensor([1. 2. 3. 4. 5.], shape=(5,), dtype=float32)\n"
     ]
    }
   ],
   "source": [
    "v = tf.constant([1., 2., 3., 4., 5.])\n",
    "\n",
    "print(v)"
   ]
  },
  {
   "cell_type": "code",
   "execution_count": 7,
   "metadata": {},
   "outputs": [
    {
     "data": {
      "text/plain": [
       "<tf.Tensor: shape=(5,), dtype=float32, numpy=array([5., 8., 9., 8., 5.], dtype=float32)>"
      ]
     },
     "execution_count": 7,
     "metadata": {},
     "output_type": "execute_result"
    }
   ],
   "source": [
    "u = tf.constant([5., 4., 3., 2., 1.])\n",
    "\n",
    "u * v"
   ]
  },
  {
   "cell_type": "code",
   "execution_count": 8,
   "metadata": {},
   "outputs": [
    {
     "data": {
      "text/plain": [
       "<tf.Tensor: shape=(), dtype=float32, numpy=35.0>"
      ]
     },
     "execution_count": 8,
     "metadata": {},
     "output_type": "execute_result"
    }
   ],
   "source": [
    "# inner product\n",
    "\n",
    "# tf.reduce_sum(u * v)\n",
    "\n",
    "tf.tensordot(u, v, axes=1)"
   ]
  },
  {
   "cell_type": "code",
   "execution_count": 9,
   "metadata": {},
   "outputs": [
    {
     "name": "stdout",
     "output_type": "stream",
     "text": [
      "tf.Tensor(\n",
      "[[1. 2. 3.]\n",
      " [4. 5. 6.]], shape=(2, 3), dtype=float32)\n",
      "tf.Tensor(\n",
      "[[6. 5.]\n",
      " [4. 3.]\n",
      " [2. 1.]], shape=(3, 2), dtype=float32)\n"
     ]
    }
   ],
   "source": [
    "X = tf.constant([[1., 2., 3.], [4., 5., 6.]])\n",
    "Y = tf.constant([[6., 5.], [4., 3.], [2., 1.]])\n",
    "\n",
    "print(X)\n",
    "print(Y)"
   ]
  },
  {
   "cell_type": "code",
   "execution_count": 10,
   "metadata": {},
   "outputs": [
    {
     "name": "stderr",
     "output_type": "stream",
     "text": [
      "2024-05-09 09:41:51.431446: I tensorflow/compiler/xla/stream_executor/cuda/cuda_blas.cc:630] TensorFloat-32 will be used for the matrix multiplication. This will only be logged once.\n"
     ]
    },
    {
     "data": {
      "text/plain": [
       "<tf.Tensor: shape=(2, 2), dtype=float32, numpy=\n",
       "array([[20., 14.],\n",
       "       [56., 41.]], dtype=float32)>"
      ]
     },
     "execution_count": 10,
     "metadata": {},
     "output_type": "execute_result"
    }
   ],
   "source": [
    "tf.matmul(X, Y)"
   ]
  },
  {
   "cell_type": "code",
   "execution_count": 11,
   "metadata": {},
   "outputs": [
    {
     "data": {
      "text/plain": [
       "<tf.Tensor: shape=(2, 3), dtype=float32, numpy=\n",
       "array([[10., 20., 30.],\n",
       "       [40., 50., 60.]], dtype=float32)>"
      ]
     },
     "execution_count": 11,
     "metadata": {},
     "output_type": "execute_result"
    }
   ],
   "source": [
    "X * 10"
   ]
  },
  {
   "cell_type": "code",
   "execution_count": 12,
   "metadata": {},
   "outputs": [
    {
     "data": {
      "text/plain": [
       "<tf.Tensor: shape=(2, 3), dtype=float32, numpy=\n",
       "array([[  2.7182817,   7.389056 ,  20.085537 ],\n",
       "       [ 54.59815  , 148.41316  , 403.4288   ]], dtype=float32)>"
      ]
     },
     "execution_count": 12,
     "metadata": {},
     "output_type": "execute_result"
    }
   ],
   "source": [
    "tf.math.exp(X)"
   ]
  },
  {
   "cell_type": "code",
   "execution_count": 13,
   "metadata": {},
   "outputs": [
    {
     "data": {
      "text/plain": [
       "<tf.Tensor: shape=(2, 3), dtype=float32, numpy=\n",
       "array([[10., 20., 30.],\n",
       "       [ 8., 10., 12.]], dtype=float32)>"
      ]
     },
     "execution_count": 13,
     "metadata": {},
     "output_type": "execute_result"
    }
   ],
   "source": [
    "X * [[10], [2]]"
   ]
  },
  {
   "cell_type": "code",
   "execution_count": 14,
   "metadata": {},
   "outputs": [
    {
     "data": {
      "text/plain": [
       "<tf.Tensor: shape=(2, 3), dtype=float32, numpy=\n",
       "array([[0.73105854, 0.880797  , 0.95257413],\n",
       "       [0.98201376, 0.9933072 , 0.9975274 ]], dtype=float32)>"
      ]
     },
     "execution_count": 14,
     "metadata": {},
     "output_type": "execute_result"
    }
   ],
   "source": [
    "tf.math.sigmoid(X)"
   ]
  },
  {
   "cell_type": "code",
   "execution_count": 15,
   "metadata": {},
   "outputs": [
    {
     "data": {
      "text/plain": [
       "<tf.Tensor: shape=(2, 3), dtype=float32, numpy=\n",
       "array([[0.09003057, 0.24472848, 0.6652409 ],\n",
       "       [0.09003057, 0.24472848, 0.6652409 ]], dtype=float32)>"
      ]
     },
     "execution_count": 15,
     "metadata": {},
     "output_type": "execute_result"
    }
   ],
   "source": [
    "tf.math.softmax(X, axis=1)"
   ]
  },
  {
   "cell_type": "code",
   "execution_count": 16,
   "metadata": {},
   "outputs": [
    {
     "data": {
      "text/plain": [
       "<tf.Tensor: shape=(2, 3), dtype=float32, numpy=\n",
       "array([[0.04742587, 0.04742587, 0.04742587],\n",
       "       [0.95257413, 0.95257413, 0.95257413]], dtype=float32)>"
      ]
     },
     "execution_count": 16,
     "metadata": {},
     "output_type": "execute_result"
    }
   ],
   "source": [
    "tf.math.softmax(X, axis=0)"
   ]
  },
  {
   "cell_type": "code",
   "execution_count": 17,
   "metadata": {},
   "outputs": [],
   "source": [
    "classif_data = tf.keras.datasets.fashion_mnist\n",
    "\n",
    "(train_images, train_labels), (test_images, test_labels) = classif_data.load_data()"
   ]
  },
  {
   "cell_type": "code",
   "execution_count": 18,
   "metadata": {},
   "outputs": [
    {
     "data": {
      "text/plain": [
       "(60000, 28, 28)"
      ]
     },
     "execution_count": 18,
     "metadata": {},
     "output_type": "execute_result"
    }
   ],
   "source": [
    "train_images.shape"
   ]
  },
  {
   "cell_type": "code",
   "execution_count": 19,
   "metadata": {},
   "outputs": [
    {
     "data": {
      "text/plain": [
       "(60000,)"
      ]
     },
     "execution_count": 19,
     "metadata": {},
     "output_type": "execute_result"
    }
   ],
   "source": [
    "train_labels.shape"
   ]
  },
  {
   "cell_type": "code",
   "execution_count": 20,
   "metadata": {},
   "outputs": [],
   "source": [
    "i = 12456"
   ]
  },
  {
   "cell_type": "code",
   "execution_count": 21,
   "metadata": {},
   "outputs": [],
   "source": [
    "X = train_images[i]\n",
    "y = train_labels[i]"
   ]
  },
  {
   "cell_type": "code",
   "execution_count": 22,
   "metadata": {},
   "outputs": [
    {
     "data": {
      "text/plain": [
       "7"
      ]
     },
     "execution_count": 22,
     "metadata": {},
     "output_type": "execute_result"
    }
   ],
   "source": [
    "y"
   ]
  },
  {
   "cell_type": "code",
   "execution_count": 23,
   "metadata": {},
   "outputs": [],
   "source": [
    "import matplotlib.pyplot as plt"
   ]
  },
  {
   "cell_type": "code",
   "execution_count": 24,
   "metadata": {},
   "outputs": [
    {
     "data": {
      "text/plain": [
       "<matplotlib.image.AxesImage at 0x7a652e73c0a0>"
      ]
     },
     "execution_count": 24,
     "metadata": {},
     "output_type": "execute_result"
    },
    {
     "data": {
      "image/png": "[encoded data removed]",
      "text/plain": [
       "<Figure size 640x480 with 1 Axes>"
      ]
     },
     "metadata": {},
     "output_type": "display_data"
    }
   ],
   "source": [
    "plt.imshow(X, cmap='gray')"
   ]
  },
  {
   "cell_type": "code",
   "execution_count": 25,
   "metadata": {},
   "outputs": [
    {
     "data": {
      "text/plain": [
       "<matplotlib.image.AxesImage at 0x7a64ec060310>"
      ]
     },
     "execution_count": 25,
     "metadata": {},
     "output_type": "execute_result"
    },
    {
     "data": {
      "image/png": "[encoded data removed]",
      "text/plain": [
       "<Figure size 640x480 with 1 Axes>"
      ]
     },
     "metadata": {},
     "output_type": "display_data"
    }
   ],
   "source": [
    "plt.imshow(X, cmap='viridis')"
   ]
  },
  {
   "cell_type": "code",
   "execution_count": 26,
   "metadata": {},
   "outputs": [
    {
     "data": {
      "text/plain": [
       "(dtype('uint8'), 0, 255)"
      ]
     },
     "execution_count": 26,
     "metadata": {},
     "output_type": "execute_result"
    }
   ],
   "source": [
    "X.dtype, X.min(), X.max()"
   ]
  },
  {
   "cell_type": "code",
   "execution_count": 27,
   "metadata": {},
   "outputs": [
    {
     "data": {
      "text/plain": [
       "dtype('uint8')"
      ]
     },
     "execution_count": 27,
     "metadata": {},
     "output_type": "execute_result"
    }
   ],
   "source": [
    "(y.dtype)"
   ]
  },
  {
   "cell_type": "code",
   "execution_count": 28,
   "metadata": {},
   "outputs": [],
   "source": [
    "import numpy as np"
   ]
  },
  {
   "cell_type": "code",
   "execution_count": 29,
   "metadata": {},
   "outputs": [
    {
     "data": {
      "text/plain": [
       "(array([0, 1, 2, 3, 4, 5, 6, 7, 8, 9], dtype=uint8),\n",
       " array([6000, 6000, 6000, 6000, 6000, 6000, 6000, 6000, 6000, 6000]))"
      ]
     },
     "execution_count": 29,
     "metadata": {},
     "output_type": "execute_result"
    }
   ],
   "source": [
    "np.unique(train_labels, return_counts=True)"
   ]
  },
  {
   "cell_type": "code",
   "execution_count": 30,
   "metadata": {},
   "outputs": [],
   "source": [
    "model = tf.keras.models.Sequential()"
   ]
  },
  {
   "cell_type": "code",
   "execution_count": 31,
   "metadata": {},
   "outputs": [],
   "source": [
    "model.add(tf.keras.layers.Flatten(input_shape=(28, 28)))"
   ]
  },
  {
   "cell_type": "code",
   "execution_count": 32,
   "metadata": {},
   "outputs": [
    {
     "name": "stdout",
     "output_type": "stream",
     "text": [
      "Model: \"sequential\"\n",
      "_________________________________________________________________\n",
      " Layer (type)                Output Shape              Param #   \n",
      "=================================================================\n",
      " flatten (Flatten)           (None, 784)               0         \n",
      "                                                                 \n",
      "=================================================================\n",
      "Total params: 0\n",
      "Trainable params: 0\n",
      "Non-trainable params: 0\n",
      "_________________________________________________________________\n"
     ]
    }
   ],
   "source": [
    "model.summary()"
   ]
  },
  {
   "cell_type": "code",
   "execution_count": 33,
   "metadata": {},
   "outputs": [],
   "source": [
    "model.add(tf.keras.layers.Dense(200, activation='relu'))"
   ]
  },
  {
   "cell_type": "code",
   "execution_count": 34,
   "metadata": {},
   "outputs": [
    {
     "name": "stdout",
     "output_type": "stream",
     "text": [
      "Model: \"sequential\"\n",
      "_________________________________________________________________\n",
      " Layer (type)                Output Shape              Param #   \n",
      "=================================================================\n",
      " flatten (Flatten)           (None, 784)               0         \n",
      "                                                                 \n",
      " dense (Dense)               (None, 200)               157000    \n",
      "                                                                 \n",
      "=================================================================\n",
      "Total params: 157,000\n",
      "Trainable params: 157,000\n",
      "Non-trainable params: 0\n",
      "_________________________________________________________________\n"
     ]
    }
   ],
   "source": [
    "model.summary()"
   ]
  },
  {
   "cell_type": "code",
   "execution_count": 35,
   "metadata": {},
   "outputs": [],
   "source": [
    "model.add(tf.keras.layers.Dense(50, activation='relu'))"
   ]
  },
  {
   "cell_type": "code",
   "execution_count": 36,
   "metadata": {},
   "outputs": [
    {
     "name": "stdout",
     "output_type": "stream",
     "text": [
      "Model: \"sequential\"\n",
      "_________________________________________________________________\n",
      " Layer (type)                Output Shape              Param #   \n",
      "=================================================================\n",
      " flatten (Flatten)           (None, 784)               0         \n",
      "                                                                 \n",
      " dense (Dense)               (None, 200)               157000    \n",
      "                                                                 \n",
      " dense_1 (Dense)             (None, 50)                10050     \n",
      "                                                                 \n",
      "=================================================================\n",
      "Total params: 167,050\n",
      "Trainable params: 167,050\n",
      "Non-trainable params: 0\n",
      "_________________________________________________________________\n"
     ]
    }
   ],
   "source": [
    "model.summary()"
   ]
  },
  {
   "cell_type": "code",
   "execution_count": 37,
   "metadata": {},
   "outputs": [],
   "source": [
    "model.add(tf.keras.layers.Dense(10, activation='softmax'))"
   ]
  },
  {
   "cell_type": "code",
   "execution_count": 38,
   "metadata": {},
   "outputs": [
    {
     "name": "stdout",
     "output_type": "stream",
     "text": [
      "Model: \"sequential\"\n",
      "_________________________________________________________________\n",
      " Layer (type)                Output Shape              Param #   \n",
      "=================================================================\n",
      " flatten (Flatten)           (None, 784)               0         \n",
      "                                                                 \n",
      " dense (Dense)               (None, 200)               157000    \n",
      "                                                                 \n",
      " dense_1 (Dense)             (None, 50)                10050     \n",
      "                                                                 \n",
      " dense_2 (Dense)             (None, 10)                510       \n",
      "                                                                 \n",
      "=================================================================\n",
      "Total params: 167,560\n",
      "Trainable params: 167,560\n",
      "Non-trainable params: 0\n",
      "_________________________________________________________________\n"
     ]
    }
   ],
   "source": [
    "model.summary()"
   ]
  },
  {
   "cell_type": "code",
   "execution_count": 39,
   "metadata": {},
   "outputs": [
    {
     "name": "stdout",
     "output_type": "stream",
     "text": [
      "1/1 [==============================] - 0s 59ms/step\n"
     ]
    },
    {
     "data": {
      "text/plain": [
       "array([[1.6677633e-26, 0.0000000e+00, 5.1652285e-12, 3.4326949e-12,\n",
       "        2.4357849e-38, 0.0000000e+00, 1.6304872e-08, 9.9999905e-01,\n",
       "        9.8195710e-07, 3.7011862e-16]], dtype=float32)"
      ]
     },
     "execution_count": 39,
     "metadata": {},
     "output_type": "execute_result"
    }
   ],
   "source": [
    "model.predict(X[None, :, :])"
   ]
  },
  {
   "cell_type": "code",
   "execution_count": 40,
   "metadata": {},
   "outputs": [
    {
     "name": "stdout",
     "output_type": "stream",
     "text": [
      "32/32 [==============================] - 0s 563us/step\n"
     ]
    },
    {
     "data": {
      "text/plain": [
       "array([[0.0000000e+00, 0.0000000e+00, 1.0000000e+00, ..., 0.0000000e+00,\n",
       "        1.8972231e-17, 0.0000000e+00],\n",
       "       [0.0000000e+00, 0.0000000e+00, 1.0000000e+00, ..., 0.0000000e+00,\n",
       "        0.0000000e+00, 0.0000000e+00],\n",
       "       [2.5214868e-11, 0.0000000e+00, 1.0000000e+00, ..., 7.1164186e-33,\n",
       "        0.0000000e+00, 0.0000000e+00],\n",
       "       ...,\n",
       "       [0.0000000e+00, 0.0000000e+00, 4.8593013e-04, ..., 0.0000000e+00,\n",
       "        9.3854265e-13, 2.4326763e-20],\n",
       "       [0.0000000e+00, 0.0000000e+00, 4.9530168e-04, ..., 0.0000000e+00,\n",
       "        1.2223983e-28, 0.0000000e+00],\n",
       "       [0.0000000e+00, 0.0000000e+00, 0.0000000e+00, ..., 0.0000000e+00,\n",
       "        0.0000000e+00, 0.0000000e+00]], dtype=float32)"
      ]
     },
     "execution_count": 40,
     "metadata": {},
     "output_type": "execute_result"
    }
   ],
   "source": [
    "model.predict(train_images[:1000])"
   ]
  },
  {
   "cell_type": "code",
   "execution_count": 41,
   "metadata": {},
   "outputs": [],
   "source": [
    "from sklearn.preprocessing import MinMaxScaler\n",
    "\n",
    "scaler = MinMaxScaler()"
   ]
  },
  {
   "cell_type": "code",
   "execution_count": 42,
   "metadata": {},
   "outputs": [
    {
     "data": {
      "text/html": [
       "<style>#sk-container-id-1 {color: black;background-color: white;}#sk-container-id-1 pre{padding: 0;}#sk-container-id-1 div.sk-toggleable {background-color: white;}#sk-container-id-1 label.sk-toggleable__label {cursor: pointer;display: block;width: 100%;margin-bottom: 0;padding: 0.3em;box-sizing: border-box;text-align: center;}#sk-container-id-1 label.sk-toggleable__label-arrow:before {content: \"▸\";float: left;margin-right: 0.25em;color: #696969;}#sk-container-id-1 label.sk-toggleable__label-arrow:hover:before {color: black;}#sk-container-id-1 div.sk-estimator:hover label.sk-toggleable__label-arrow:before {color: black;}#sk-container-id-1 div.sk-toggleable__content {max-height: 0;max-width: 0;overflow: hidden;text-align: left;background-color: #f0f8ff;}#sk-container-id-1 div.sk-toggleable__content pre {margin: 0.2em;color: black;border-radius: 0.25em;background-color: #f0f8ff;}#sk-container-id-1 input.sk-toggleable__control:checked~div.sk-toggleable__content {max-height: 200px;max-width: 100%;overflow: auto;}#sk-container-id-1 input.sk-toggleable__control:checked~label.sk-toggleable__label-arrow:before {content: \"▾\";}#sk-container-id-1 div.sk-estimator input.sk-toggleable__control:checked~label.sk-toggleable__label {background-color: #d4ebff;}#sk-container-id-1 div.sk-label input.sk-toggleable__control:checked~label.sk-toggleable__label {background-color: #d4ebff;}#sk-container-id-1 input.sk-hidden--visually {border: 0;clip: rect(1px 1px 1px 1px);clip: rect(1px, 1px, 1px, 1px);height: 1px;margin: -1px;overflow: hidden;padding: 0;position: absolute;width: 1px;}#sk-container-id-1 div.sk-estimator {font-family: monospace;background-color: #f0f8ff;border: 1px dotted black;border-radius: 0.25em;box-sizing: border-box;margin-bottom: 0.5em;}#sk-container-id-1 div.sk-estimator:hover {background-color: #d4ebff;}#sk-container-id-1 div.sk-parallel-item::after {content: \"\";width: 100%;border-bottom: 1px solid gray;flex-grow: 1;}#sk-container-id-1 div.sk-label:hover label.sk-toggleable__label {background-color: #d4ebff;}#sk-container-id-1 div.sk-serial::before {content: \"\";position: absolute;border-left: 1px solid gray;box-sizing: border-box;top: 0;bottom: 0;left: 50%;z-index: 0;}#sk-container-id-1 div.sk-serial {display: flex;flex-direction: column;align-items: center;background-color: white;padding-right: 0.2em;padding-left: 0.2em;position: relative;}#sk-container-id-1 div.sk-item {position: relative;z-index: 1;}#sk-container-id-1 div.sk-parallel {display: flex;align-items: stretch;justify-content: center;background-color: white;position: relative;}#sk-container-id-1 div.sk-item::before, #sk-container-id-1 div.sk-parallel-item::before {content: \"\";position: absolute;border-left: 1px solid gray;box-sizing: border-box;top: 0;bottom: 0;left: 50%;z-index: -1;}#sk-container-id-1 div.sk-parallel-item {display: flex;flex-direction: column;z-index: 1;position: relative;background-color: white;}#sk-container-id-1 div.sk-parallel-item:first-child::after {align-self: flex-end;width: 50%;}#sk-container-id-1 div.sk-parallel-item:last-child::after {align-self: flex-start;width: 50%;}#sk-container-id-1 div.sk-parallel-item:only-child::after {width: 0;}#sk-container-id-1 div.sk-dashed-wrapped {border: 1px dashed gray;margin: 0 0.4em 0.5em 0.4em;box-sizing: border-box;padding-bottom: 0.4em;background-color: white;}#sk-container-id-1 div.sk-label label {font-family: monospace;font-weight: bold;display: inline-block;line-height: 1.2em;}#sk-container-id-1 div.sk-label-container {text-align: center;}#sk-container-id-1 div.sk-container {/* jupyter's `normalize.less` sets `[hidden] { display: none; }` but bootstrap.min.css set `[hidden] { display: none !important; }` so we also need the `!important` here to be able to override the default hidden behavior on the sphinx rendered scikit-learn.org. See: https://github.com/scikit-learn/scikit-learn/issues/21755 */display: inline-block !important;position: relative;}#sk-container-id-1 div.sk-text-repr-fallback {display: none;}</style><div id=\"sk-container-id-1\" class=\"sk-top-container\"><div class=\"sk-text-repr-fallback\"><pre>MinMaxScaler()</pre><b>In a Jupyter environment, please rerun this cell to show the HTML representation or trust the notebook. <br />On GitHub, the HTML representation is unable to render, please try loading this page with nbviewer.org.</b></div><div class=\"sk-container\" hidden><div class=\"sk-item\"><div class=\"sk-estimator sk-toggleable\"><input class=\"sk-toggleable__control sk-hidden--visually\" id=\"sk-estimator-id-1\" type=\"checkbox\" checked><label for=\"sk-estimator-id-1\" class=\"sk-toggleable__label sk-toggleable__label-arrow\">MinMaxScaler</label><div class=\"sk-toggleable__content\"><pre>MinMaxScaler()</pre></div></div></div></div></div>"
      ],
      "text/plain": [
       "MinMaxScaler()"
      ]
     },
     "execution_count": 42,
     "metadata": {},
     "output_type": "execute_result"
    }
   ],
   "source": [
    "scaler.fit(train_images.reshape(-1,1))\n"
   ]
  },
  {
   "cell_type": "code",
   "execution_count": 43,
   "metadata": {},
   "outputs": [],
   "source": [
    "train_images_scaled = scaler.transform(train_images.reshape(-1,1)).reshape(60000, 28, 28)"
   ]
  },
  {
   "cell_type": "code",
   "execution_count": 44,
   "metadata": {},
   "outputs": [
    {
     "data": {
      "text/plain": [
       "(0.0, 1.0)"
      ]
     },
     "execution_count": 44,
     "metadata": {},
     "output_type": "execute_result"
    }
   ],
   "source": [
    "train_images_scaled.min(), train_images_scaled.max()"
   ]
  },
  {
   "cell_type": "code",
   "execution_count": 45,
   "metadata": {},
   "outputs": [],
   "source": [
    "test_images_scaled = scaler.transform(test_images.reshape(-1,1)).reshape(test_images.shape[0], 28, 28)"
   ]
  },
  {
   "cell_type": "code",
   "execution_count": 46,
   "metadata": {},
   "outputs": [
    {
     "data": {
      "text/plain": [
       "(0.0, 1.0)"
      ]
     },
     "execution_count": 46,
     "metadata": {},
     "output_type": "execute_result"
    }
   ],
   "source": [
    "test_images_scaled.min(), test_images_scaled.max()"
   ]
  },
  {
   "cell_type": "code",
   "execution_count": 47,
   "metadata": {},
   "outputs": [],
   "source": [
    "loss = tf.keras.losses.SparseCategoricalCrossentropy()"
   ]
  },
  {
   "cell_type": "code",
   "execution_count": 48,
   "metadata": {},
   "outputs": [],
   "source": [
    "optim = tf.keras.optimizers.Adam()"
   ]
  },
  {
   "cell_type": "code",
   "execution_count": 49,
   "metadata": {},
   "outputs": [],
   "source": [
    "model.compile(loss=loss, optimizer=optim, metrics=['accuracy', 'mse'])"
   ]
  },
  {
   "cell_type": "code",
   "execution_count": 50,
   "metadata": {},
   "outputs": [
    {
     "name": "stdout",
     "output_type": "stream",
     "text": [
      "Epoch 1/100\n"
     ]
    },
    {
     "name": "stderr",
     "output_type": "stream",
     "text": [
      "2024-05-09 09:41:53.604294: I tensorflow/compiler/xla/service/service.cc:173] XLA service 0x5726a62ae170 initialized for platform CUDA (this does not guarantee that XLA will be used). Devices:\n",
      "2024-05-09 09:41:53.604336: I tensorflow/compiler/xla/service/service.cc:181]   StreamExecutor device (0): NVIDIA RTX A6000, Compute Capability 8.6\n",
      "2024-05-09 09:41:53.613169: I tensorflow/compiler/mlir/tensorflow/utils/dump_mlir_util.cc:268] disabling MLIR crash reproducer, set env var `MLIR_CRASH_REPRODUCER_DIRECTORY` to enable.\n",
      "2024-05-09 09:41:53.726503: I tensorflow/compiler/jit/xla_compilation_cache.cc:477] Compiled cluster using XLA!  This line is logged at most once for the lifetime of the process.\n"
     ]
    },
    {
     "name": "stdout",
     "output_type": "stream",
     "text": [
      "1500/1500 - 3s - loss: 0.5077 - accuracy: 0.8193 - mse: 27.7449 - val_loss: 0.4387 - val_accuracy: 0.8339 - val_mse: 27.3935 - 3s/epoch - 2ms/step\n",
      "Epoch 2/100\n",
      "1500/1500 - 2s - loss: 0.3749 - accuracy: 0.8630 - mse: 27.7517 - val_loss: 0.3677 - val_accuracy: 0.8682 - val_mse: 27.3971 - 2s/epoch - 1ms/step\n",
      "Epoch 3/100\n",
      "1500/1500 - 2s - loss: 0.3361 - accuracy: 0.8765 - mse: 27.7536 - val_loss: 0.3876 - val_accuracy: 0.8597 - val_mse: 27.3986 - 2s/epoch - 1ms/step\n",
      "Epoch 4/100\n",
      "1500/1500 - 2s - loss: 0.3106 - accuracy: 0.8850 - mse: 27.7548 - val_loss: 0.3576 - val_accuracy: 0.8699 - val_mse: 27.3983 - 2s/epoch - 1ms/step\n",
      "Epoch 5/100\n",
      "1500/1500 - 2s - loss: 0.2938 - accuracy: 0.8910 - mse: 27.7558 - val_loss: 0.3829 - val_accuracy: 0.8676 - val_mse: 27.4001 - 2s/epoch - 1ms/step\n",
      "Epoch 6/100\n",
      "1500/1500 - 2s - loss: 0.2768 - accuracy: 0.8954 - mse: 27.7565 - val_loss: 0.3304 - val_accuracy: 0.8819 - val_mse: 27.4004 - 2s/epoch - 1ms/step\n",
      "Epoch 7/100\n",
      "1500/1500 - 2s - loss: 0.2659 - accuracy: 0.9010 - mse: 27.7572 - val_loss: 0.3346 - val_accuracy: 0.8815 - val_mse: 27.4009 - 2s/epoch - 1ms/step\n",
      "Epoch 8/100\n",
      "1500/1500 - 2s - loss: 0.2550 - accuracy: 0.9059 - mse: 27.7577 - val_loss: 0.3552 - val_accuracy: 0.8767 - val_mse: 27.4018 - 2s/epoch - 1ms/step\n",
      "Epoch 9/100\n",
      "1500/1500 - 2s - loss: 0.2443 - accuracy: 0.9084 - mse: 27.7581 - val_loss: 0.3241 - val_accuracy: 0.8841 - val_mse: 27.4010 - 2s/epoch - 1ms/step\n",
      "Epoch 10/100\n",
      "1500/1500 - 2s - loss: 0.2366 - accuracy: 0.9109 - mse: 27.7586 - val_loss: 0.3300 - val_accuracy: 0.8877 - val_mse: 27.4029 - 2s/epoch - 1ms/step\n",
      "Epoch 11/100\n",
      "1500/1500 - 2s - loss: 0.2290 - accuracy: 0.9132 - mse: 27.7590 - val_loss: 0.3198 - val_accuracy: 0.8887 - val_mse: 27.4001 - 2s/epoch - 1ms/step\n",
      "Epoch 12/100\n",
      "1500/1500 - 2s - loss: 0.2168 - accuracy: 0.9175 - mse: 27.7594 - val_loss: 0.3259 - val_accuracy: 0.8879 - val_mse: 27.4023 - 2s/epoch - 1ms/step\n",
      "Epoch 13/100\n",
      "1500/1500 - 2s - loss: 0.2107 - accuracy: 0.9190 - mse: 27.7599 - val_loss: 0.3366 - val_accuracy: 0.8907 - val_mse: 27.4029 - 2s/epoch - 1ms/step\n",
      "Epoch 14/100\n",
      "1500/1500 - 2s - loss: 0.2029 - accuracy: 0.9230 - mse: 27.7603 - val_loss: 0.3310 - val_accuracy: 0.8906 - val_mse: 27.4039 - 2s/epoch - 1ms/step\n",
      "Epoch 15/100\n",
      "1500/1500 - 2s - loss: 0.1975 - accuracy: 0.9245 - mse: 27.7606 - val_loss: 0.3265 - val_accuracy: 0.8910 - val_mse: 27.4032 - 2s/epoch - 1ms/step\n",
      "Epoch 16/100\n",
      "1500/1500 - 2s - loss: 0.1930 - accuracy: 0.9267 - mse: 27.7608 - val_loss: 0.3417 - val_accuracy: 0.8926 - val_mse: 27.4033 - 2s/epoch - 1ms/step\n",
      "Epoch 17/100\n",
      "1500/1500 - 3s - loss: 0.1863 - accuracy: 0.9289 - mse: 27.7611 - val_loss: 0.3485 - val_accuracy: 0.8904 - val_mse: 27.4045 - 3s/epoch - 2ms/step\n",
      "Epoch 18/100\n",
      "1500/1500 - 2s - loss: 0.1814 - accuracy: 0.9306 - mse: 27.7614 - val_loss: 0.3607 - val_accuracy: 0.8881 - val_mse: 27.4050 - 2s/epoch - 2ms/step\n",
      "Epoch 19/100\n",
      "1500/1500 - 2s - loss: 0.1766 - accuracy: 0.9331 - mse: 27.7617 - val_loss: 0.3528 - val_accuracy: 0.8896 - val_mse: 27.4046 - 2s/epoch - 1ms/step\n",
      "Epoch 20/100\n",
      "1500/1500 - 2s - loss: 0.1702 - accuracy: 0.9352 - mse: 27.7620 - val_loss: 0.3494 - val_accuracy: 0.8900 - val_mse: 27.4040 - 2s/epoch - 1ms/step\n",
      "Epoch 21/100\n",
      "1500/1500 - 2s - loss: 0.1661 - accuracy: 0.9362 - mse: 27.7622 - val_loss: 0.3735 - val_accuracy: 0.8878 - val_mse: 27.4048 - 2s/epoch - 1ms/step\n",
      "Epoch 22/100\n",
      "1500/1500 - 2s - loss: 0.1592 - accuracy: 0.9388 - mse: 27.7625 - val_loss: 0.3678 - val_accuracy: 0.8900 - val_mse: 27.4054 - 2s/epoch - 1ms/step\n",
      "Epoch 23/100\n",
      "1500/1500 - 2s - loss: 0.1578 - accuracy: 0.9410 - mse: 27.7626 - val_loss: 0.3766 - val_accuracy: 0.8907 - val_mse: 27.4055 - 2s/epoch - 1ms/step\n",
      "Epoch 24/100\n",
      "1500/1500 - 2s - loss: 0.1543 - accuracy: 0.9410 - mse: 27.7629 - val_loss: 0.3621 - val_accuracy: 0.8911 - val_mse: 27.4049 - 2s/epoch - 1ms/step\n",
      "Epoch 25/100\n",
      "1500/1500 - 2s - loss: 0.1477 - accuracy: 0.9441 - mse: 27.7631 - val_loss: 0.3789 - val_accuracy: 0.8922 - val_mse: 27.4056 - 2s/epoch - 1ms/step\n",
      "Epoch 26/100\n",
      "1500/1500 - 2s - loss: 0.1451 - accuracy: 0.9447 - mse: 27.7634 - val_loss: 0.4038 - val_accuracy: 0.8866 - val_mse: 27.4059 - 2s/epoch - 1ms/step\n",
      "Epoch 27/100\n",
      "1500/1500 - 2s - loss: 0.1407 - accuracy: 0.9469 - mse: 27.7637 - val_loss: 0.4312 - val_accuracy: 0.8838 - val_mse: 27.4047 - 2s/epoch - 1ms/step\n",
      "Epoch 28/100\n",
      "1500/1500 - 2s - loss: 0.1386 - accuracy: 0.9473 - mse: 27.7636 - val_loss: 0.4333 - val_accuracy: 0.8882 - val_mse: 27.4068 - 2s/epoch - 1ms/step\n",
      "Epoch 29/100\n",
      "1500/1500 - 2s - loss: 0.1345 - accuracy: 0.9480 - mse: 27.7639 - val_loss: 0.4153 - val_accuracy: 0.8891 - val_mse: 27.4061 - 2s/epoch - 1ms/step\n",
      "Epoch 30/100\n",
      "1500/1500 - 2s - loss: 0.1323 - accuracy: 0.9492 - mse: 27.7640 - val_loss: 0.4264 - val_accuracy: 0.8892 - val_mse: 27.4065 - 2s/epoch - 1ms/step\n",
      "Epoch 31/100\n",
      "1500/1500 - 2s - loss: 0.1263 - accuracy: 0.9515 - mse: 27.7643 - val_loss: 0.4626 - val_accuracy: 0.8795 - val_mse: 27.4050 - 2s/epoch - 1ms/step\n",
      "Epoch 32/100\n",
      "1500/1500 - 2s - loss: 0.1245 - accuracy: 0.9537 - mse: 27.7645 - val_loss: 0.4338 - val_accuracy: 0.8886 - val_mse: 27.4070 - 2s/epoch - 1ms/step\n",
      "Epoch 33/100\n",
      "1500/1500 - 2s - loss: 0.1207 - accuracy: 0.9534 - mse: 27.7646 - val_loss: 0.4452 - val_accuracy: 0.8904 - val_mse: 27.4069 - 2s/epoch - 1ms/step\n",
      "Epoch 34/100\n",
      "1500/1500 - 2s - loss: 0.1218 - accuracy: 0.9536 - mse: 27.7647 - val_loss: 0.4731 - val_accuracy: 0.8872 - val_mse: 27.4062 - 2s/epoch - 1ms/step\n",
      "Epoch 35/100\n",
      "1500/1500 - 2s - loss: 0.1178 - accuracy: 0.9541 - mse: 27.7649 - val_loss: 0.4494 - val_accuracy: 0.8961 - val_mse: 27.4081 - 2s/epoch - 1ms/step\n",
      "Epoch 36/100\n",
      "1500/1500 - 2s - loss: 0.1146 - accuracy: 0.9558 - mse: 27.7651 - val_loss: 0.4462 - val_accuracy: 0.8922 - val_mse: 27.4072 - 2s/epoch - 1ms/step\n",
      "Epoch 37/100\n",
      "1500/1500 - 2s - loss: 0.1137 - accuracy: 0.9571 - mse: 27.7651 - val_loss: 0.4564 - val_accuracy: 0.8957 - val_mse: 27.4074 - 2s/epoch - 1ms/step\n",
      "Epoch 38/100\n",
      "1500/1500 - 2s - loss: 0.1089 - accuracy: 0.9578 - mse: 27.7652 - val_loss: 0.4600 - val_accuracy: 0.8941 - val_mse: 27.4076 - 2s/epoch - 1ms/step\n",
      "Epoch 39/100\n",
      "1500/1500 - 2s - loss: 0.1093 - accuracy: 0.9578 - mse: 27.7654 - val_loss: 0.5089 - val_accuracy: 0.8852 - val_mse: 27.4073 - 2s/epoch - 1ms/step\n",
      "Epoch 40/100\n",
      "1500/1500 - 2s - loss: 0.1037 - accuracy: 0.9602 - mse: 27.7656 - val_loss: 0.4858 - val_accuracy: 0.8909 - val_mse: 27.4076 - 2s/epoch - 1ms/step\n",
      "Epoch 41/100\n",
      "1500/1500 - 2s - loss: 0.1036 - accuracy: 0.9605 - mse: 27.7657 - val_loss: 0.4882 - val_accuracy: 0.8933 - val_mse: 27.4079 - 2s/epoch - 1ms/step\n",
      "Epoch 42/100\n",
      "1500/1500 - 2s - loss: 0.0978 - accuracy: 0.9634 - mse: 27.7658 - val_loss: 0.4841 - val_accuracy: 0.8883 - val_mse: 27.4076 - 2s/epoch - 1ms/step\n",
      "Epoch 43/100\n",
      "1500/1500 - 2s - loss: 0.1006 - accuracy: 0.9614 - mse: 27.7658 - val_loss: 0.5562 - val_accuracy: 0.8773 - val_mse: 27.4072 - 2s/epoch - 1ms/step\n",
      "Epoch 44/100\n",
      "1500/1500 - 2s - loss: 0.0995 - accuracy: 0.9610 - mse: 27.7659 - val_loss: 0.5196 - val_accuracy: 0.8918 - val_mse: 27.4079 - 2s/epoch - 1ms/step\n",
      "Epoch 45/100\n",
      "1500/1500 - 2s - loss: 0.0929 - accuracy: 0.9650 - mse: 27.7662 - val_loss: 0.5433 - val_accuracy: 0.8929 - val_mse: 27.4090 - 2s/epoch - 1ms/step\n",
      "Epoch 46/100\n",
      "1500/1500 - 2s - loss: 0.0962 - accuracy: 0.9632 - mse: 27.7661 - val_loss: 0.5851 - val_accuracy: 0.8860 - val_mse: 27.4082 - 2s/epoch - 1ms/step\n",
      "Epoch 47/100\n",
      "1500/1500 - 2s - loss: 0.0922 - accuracy: 0.9653 - mse: 27.7663 - val_loss: 0.5274 - val_accuracy: 0.8876 - val_mse: 27.4076 - 2s/epoch - 1ms/step\n",
      "Epoch 48/100\n",
      "1500/1500 - 2s - loss: 0.0884 - accuracy: 0.9660 - mse: 27.7664 - val_loss: 0.5266 - val_accuracy: 0.8927 - val_mse: 27.4083 - 2s/epoch - 1ms/step\n",
      "Epoch 49/100\n",
      "1500/1500 - 2s - loss: 0.0859 - accuracy: 0.9663 - mse: 27.7665 - val_loss: 0.5567 - val_accuracy: 0.8895 - val_mse: 27.4091 - 2s/epoch - 1ms/step\n",
      "Epoch 50/100\n",
      "1500/1500 - 2s - loss: 0.0911 - accuracy: 0.9647 - mse: 27.7664 - val_loss: 0.5566 - val_accuracy: 0.8903 - val_mse: 27.4087 - 2s/epoch - 1ms/step\n",
      "Epoch 51/100\n",
      "1500/1500 - 2s - loss: 0.0835 - accuracy: 0.9696 - mse: 27.7667 - val_loss: 0.6073 - val_accuracy: 0.8878 - val_mse: 27.4088 - 2s/epoch - 1ms/step\n",
      "Epoch 52/100\n",
      "1500/1500 - 2s - loss: 0.0858 - accuracy: 0.9681 - mse: 27.7668 - val_loss: 0.5547 - val_accuracy: 0.8951 - val_mse: 27.4090 - 2s/epoch - 1ms/step\n",
      "Epoch 53/100\n",
      "1500/1500 - 2s - loss: 0.0853 - accuracy: 0.9672 - mse: 27.7668 - val_loss: 0.5806 - val_accuracy: 0.8896 - val_mse: 27.4090 - 2s/epoch - 1ms/step\n",
      "Epoch 54/100\n",
      "1500/1500 - 3s - loss: 0.0780 - accuracy: 0.9700 - mse: 27.7669 - val_loss: 0.5891 - val_accuracy: 0.8919 - val_mse: 27.4097 - 3s/epoch - 2ms/step\n",
      "Epoch 55/100\n",
      "1500/1500 - 3s - loss: 0.0823 - accuracy: 0.9680 - mse: 27.7669 - val_loss: 0.5978 - val_accuracy: 0.8926 - val_mse: 27.4094 - 3s/epoch - 2ms/step\n",
      "Epoch 56/100\n",
      "1500/1500 - 2s - loss: 0.0785 - accuracy: 0.9699 - mse: 27.7669 - val_loss: 0.6395 - val_accuracy: 0.8897 - val_mse: 27.4097 - 2s/epoch - 1ms/step\n",
      "Epoch 57/100\n",
      "1500/1500 - 2s - loss: 0.0806 - accuracy: 0.9693 - mse: 27.7670 - val_loss: 0.5839 - val_accuracy: 0.8886 - val_mse: 27.4086 - 2s/epoch - 1ms/step\n",
      "Epoch 58/100\n",
      "1500/1500 - 2s - loss: 0.0748 - accuracy: 0.9705 - mse: 27.7672 - val_loss: 0.6848 - val_accuracy: 0.8918 - val_mse: 27.4101 - 2s/epoch - 1ms/step\n",
      "Epoch 59/100\n",
      "1500/1500 - 2s - loss: 0.0731 - accuracy: 0.9721 - mse: 27.7673 - val_loss: 0.6145 - val_accuracy: 0.8891 - val_mse: 27.4093 - 2s/epoch - 1ms/step\n",
      "Epoch 60/100\n",
      "1500/1500 - 2s - loss: 0.0800 - accuracy: 0.9705 - mse: 27.7672 - val_loss: 0.5985 - val_accuracy: 0.8896 - val_mse: 27.4092 - 2s/epoch - 1ms/step\n",
      "Epoch 61/100\n",
      "1500/1500 - 2s - loss: 0.0737 - accuracy: 0.9717 - mse: 27.7674 - val_loss: 0.6178 - val_accuracy: 0.8917 - val_mse: 27.4092 - 2s/epoch - 2ms/step\n",
      "Epoch 62/100\n",
      "1500/1500 - 2s - loss: 0.0694 - accuracy: 0.9734 - mse: 27.7676 - val_loss: 0.6723 - val_accuracy: 0.8891 - val_mse: 27.4093 - 2s/epoch - 1ms/step\n",
      "Epoch 63/100\n",
      "1500/1500 - 2s - loss: 0.0713 - accuracy: 0.9725 - mse: 27.7674 - val_loss: 0.6482 - val_accuracy: 0.8872 - val_mse: 27.4093 - 2s/epoch - 1ms/step\n",
      "Epoch 64/100\n",
      "1500/1500 - 2s - loss: 0.0684 - accuracy: 0.9744 - mse: 27.7676 - val_loss: 0.6964 - val_accuracy: 0.8867 - val_mse: 27.4098 - 2s/epoch - 1ms/step\n",
      "Epoch 65/100\n",
      "1500/1500 - 2s - loss: 0.0704 - accuracy: 0.9741 - mse: 27.7676 - val_loss: 0.6504 - val_accuracy: 0.8915 - val_mse: 27.4098 - 2s/epoch - 1ms/step\n",
      "Epoch 66/100\n",
      "1500/1500 - 2s - loss: 0.0685 - accuracy: 0.9741 - mse: 27.7676 - val_loss: 0.6836 - val_accuracy: 0.8882 - val_mse: 27.4099 - 2s/epoch - 1ms/step\n",
      "Epoch 67/100\n",
      "1500/1500 - 2s - loss: 0.0639 - accuracy: 0.9757 - mse: 27.7679 - val_loss: 0.6648 - val_accuracy: 0.8901 - val_mse: 27.4100 - 2s/epoch - 1ms/step\n",
      "Epoch 68/100\n",
      "1500/1500 - 2s - loss: 0.0660 - accuracy: 0.9759 - mse: 27.7678 - val_loss: 0.7035 - val_accuracy: 0.8866 - val_mse: 27.4097 - 2s/epoch - 1ms/step\n",
      "Epoch 69/100\n",
      "1500/1500 - 3s - loss: 0.0670 - accuracy: 0.9754 - mse: 27.7678 - val_loss: 0.7133 - val_accuracy: 0.8874 - val_mse: 27.4099 - 3s/epoch - 2ms/step\n",
      "Epoch 70/100\n",
      "1500/1500 - 3s - loss: 0.0659 - accuracy: 0.9765 - mse: 27.7679 - val_loss: 0.7473 - val_accuracy: 0.8818 - val_mse: 27.4093 - 3s/epoch - 2ms/step\n",
      "Epoch 71/100\n",
      "1500/1500 - 3s - loss: 0.0598 - accuracy: 0.9770 - mse: 27.7680 - val_loss: 0.6820 - val_accuracy: 0.8916 - val_mse: 27.4099 - 3s/epoch - 2ms/step\n",
      "Epoch 72/100\n",
      "1500/1500 - 3s - loss: 0.0661 - accuracy: 0.9762 - mse: 27.7679 - val_loss: 0.7394 - val_accuracy: 0.8861 - val_mse: 27.4100 - 3s/epoch - 2ms/step\n",
      "Epoch 73/100\n",
      "1500/1500 - 2s - loss: 0.0630 - accuracy: 0.9762 - mse: 27.7680 - val_loss: 0.7057 - val_accuracy: 0.8878 - val_mse: 27.4097 - 2s/epoch - 1ms/step\n",
      "Epoch 74/100\n",
      "1500/1500 - 2s - loss: 0.0625 - accuracy: 0.9765 - mse: 27.7681 - val_loss: 0.7127 - val_accuracy: 0.8937 - val_mse: 27.4100 - 2s/epoch - 1ms/step\n",
      "Epoch 75/100\n",
      "1500/1500 - 2s - loss: 0.0596 - accuracy: 0.9771 - mse: 27.7681 - val_loss: 0.7289 - val_accuracy: 0.8913 - val_mse: 27.4104 - 2s/epoch - 1ms/step\n",
      "Epoch 76/100\n",
      "1500/1500 - 2s - loss: 0.0563 - accuracy: 0.9784 - mse: 27.7682 - val_loss: 0.7570 - val_accuracy: 0.8888 - val_mse: 27.4105 - 2s/epoch - 1ms/step\n",
      "Epoch 77/100\n",
      "1500/1500 - 2s - loss: 0.0647 - accuracy: 0.9769 - mse: 27.7682 - val_loss: 0.7098 - val_accuracy: 0.8912 - val_mse: 27.4101 - 2s/epoch - 1ms/step\n",
      "Epoch 78/100\n",
      "1500/1500 - 2s - loss: 0.0524 - accuracy: 0.9801 - mse: 27.7683 - val_loss: 0.7575 - val_accuracy: 0.8881 - val_mse: 27.4105 - 2s/epoch - 1ms/step\n",
      "Epoch 79/100\n",
      "1500/1500 - 2s - loss: 0.0610 - accuracy: 0.9779 - mse: 27.7682 - val_loss: 0.7502 - val_accuracy: 0.8917 - val_mse: 27.4105 - 2s/epoch - 1ms/step\n",
      "Epoch 80/100\n",
      "1500/1500 - 2s - loss: 0.0573 - accuracy: 0.9791 - mse: 27.7684 - val_loss: 0.7568 - val_accuracy: 0.8865 - val_mse: 27.4102 - 2s/epoch - 1ms/step\n",
      "Epoch 81/100\n",
      "1500/1500 - 2s - loss: 0.0551 - accuracy: 0.9791 - mse: 27.7684 - val_loss: 0.7722 - val_accuracy: 0.8927 - val_mse: 27.4108 - 2s/epoch - 1ms/step\n",
      "Epoch 82/100\n",
      "1500/1500 - 2s - loss: 0.0620 - accuracy: 0.9782 - mse: 27.7684 - val_loss: 0.7964 - val_accuracy: 0.8920 - val_mse: 27.4109 - 2s/epoch - 1ms/step\n",
      "Epoch 83/100\n",
      "1500/1500 - 2s - loss: 0.0542 - accuracy: 0.9802 - mse: 27.7685 - val_loss: 0.7987 - val_accuracy: 0.8881 - val_mse: 27.4105 - 2s/epoch - 1ms/step\n",
      "Epoch 84/100\n",
      "1500/1500 - 2s - loss: 0.0536 - accuracy: 0.9810 - mse: 27.7685 - val_loss: 0.7490 - val_accuracy: 0.8934 - val_mse: 27.4105 - 2s/epoch - 1ms/step\n",
      "Epoch 85/100\n",
      "1500/1500 - 2s - loss: 0.0552 - accuracy: 0.9801 - mse: 27.7686 - val_loss: 0.7969 - val_accuracy: 0.8911 - val_mse: 27.4109 - 2s/epoch - 1ms/step\n",
      "Epoch 86/100\n",
      "1500/1500 - 2s - loss: 0.0510 - accuracy: 0.9813 - mse: 27.7687 - val_loss: 0.8102 - val_accuracy: 0.8899 - val_mse: 27.4109 - 2s/epoch - 1ms/step\n",
      "Epoch 87/100\n",
      "1500/1500 - 2s - loss: 0.0523 - accuracy: 0.9807 - mse: 27.7686 - val_loss: 0.8122 - val_accuracy: 0.8903 - val_mse: 27.4107 - 2s/epoch - 1ms/step\n",
      "Epoch 88/100\n",
      "1500/1500 - 2s - loss: 0.0446 - accuracy: 0.9834 - mse: 27.7688 - val_loss: 0.8052 - val_accuracy: 0.8928 - val_mse: 27.4110 - 2s/epoch - 1ms/step\n",
      "Epoch 89/100\n",
      "1500/1500 - 2s - loss: 0.0524 - accuracy: 0.9804 - mse: 27.7687 - val_loss: 0.7525 - val_accuracy: 0.8907 - val_mse: 27.4104 - 2s/epoch - 1ms/step\n",
      "Epoch 90/100\n",
      "1500/1500 - 2s - loss: 0.0499 - accuracy: 0.9819 - mse: 27.7687 - val_loss: 0.7896 - val_accuracy: 0.8882 - val_mse: 27.4108 - 2s/epoch - 1ms/step\n",
      "Epoch 91/100\n",
      "1500/1500 - 2s - loss: 0.0495 - accuracy: 0.9819 - mse: 27.7687 - val_loss: 0.8226 - val_accuracy: 0.8918 - val_mse: 27.4109 - 2s/epoch - 1ms/step\n",
      "Epoch 92/100\n",
      "1500/1500 - 2s - loss: 0.0491 - accuracy: 0.9820 - mse: 27.7688 - val_loss: 0.8346 - val_accuracy: 0.8903 - val_mse: 27.4109 - 2s/epoch - 1ms/step\n",
      "Epoch 93/100\n",
      "1500/1500 - 2s - loss: 0.0542 - accuracy: 0.9805 - mse: 27.7688 - val_loss: 0.7948 - val_accuracy: 0.8928 - val_mse: 27.4109 - 2s/epoch - 1ms/step\n",
      "Epoch 94/100\n",
      "1500/1500 - 2s - loss: 0.0442 - accuracy: 0.9828 - mse: 27.7689 - val_loss: 0.8231 - val_accuracy: 0.8890 - val_mse: 27.4110 - 2s/epoch - 1ms/step\n",
      "Epoch 95/100\n",
      "1500/1500 - 2s - loss: 0.0499 - accuracy: 0.9813 - mse: 27.7688 - val_loss: 0.8307 - val_accuracy: 0.8957 - val_mse: 27.4113 - 2s/epoch - 1ms/step\n",
      "Epoch 96/100\n",
      "1500/1500 - 2s - loss: 0.0422 - accuracy: 0.9847 - mse: 27.7690 - val_loss: 0.8858 - val_accuracy: 0.8910 - val_mse: 27.4114 - 2s/epoch - 1ms/step\n",
      "Epoch 97/100\n",
      "1500/1500 - 2s - loss: 0.0507 - accuracy: 0.9819 - mse: 27.7688 - val_loss: 0.7891 - val_accuracy: 0.8951 - val_mse: 27.4109 - 2s/epoch - 1ms/step\n",
      "Epoch 98/100\n",
      "1500/1500 - 3s - loss: 0.0473 - accuracy: 0.9833 - mse: 27.7690 - val_loss: 0.8471 - val_accuracy: 0.8832 - val_mse: 27.4105 - 3s/epoch - 2ms/step\n",
      "Epoch 99/100\n",
      "1500/1500 - 2s - loss: 0.0481 - accuracy: 0.9827 - mse: 27.7689 - val_loss: 0.8644 - val_accuracy: 0.8908 - val_mse: 27.4113 - 2s/epoch - 1ms/step\n",
      "Epoch 100/100\n",
      "1500/1500 - 2s - loss: 0.0418 - accuracy: 0.9850 - mse: 27.7691 - val_loss: 0.8735 - val_accuracy: 0.8923 - val_mse: 27.4113 - 2s/epoch - 1ms/step\n"
     ]
    },
    {
     "data": {
      "text/plain": [
       "<keras.callbacks.History at 0x7a643017b790>"
      ]
     },
     "execution_count": 50,
     "metadata": {},
     "output_type": "execute_result"
    }
   ],
   "source": [
    "model.fit(train_images_scaled, train_labels, epochs=100, batch_size=32, validation_split=0.2, verbose=2)"
   ]
  }
 ],
 "metadata": {
  "kernelspec": {
   "display_name": "didattica",
   "language": "python",
   "name": "python3"
  },
  "language_info": {
   "codemirror_mode": {
    "name": "ipython",
    "version": 3
   },
   "file_extension": ".py",
   "mimetype": "text/x-python",
   "name": "python",
   "nbconvert_exporter": "python",
   "pygments_lexer": "ipython3",
   "version": "3.8.16"
  }
 },
 "nbformat": 4,
 "nbformat_minor": 2
}
